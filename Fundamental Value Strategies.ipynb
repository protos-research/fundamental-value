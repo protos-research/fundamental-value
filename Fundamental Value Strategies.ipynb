{
 "cells": [
  {
   "cell_type": "markdown",
   "metadata": {},
   "source": [
    "# Fundamental Value Strategies\n",
    "*Note: [Read our Medium Article on Fundamental Value Strategies](https://medium.com/protos-fund/top-4-ratios-to-make-sense-of-cryptoassets-94628faad60a)*\n",
    "\n",
    "## Transaction Volume & Trading Volume\n",
    "\n",
    "NVT: Network Value to Transaction Volume (MarketCap / Transaction Volume) <br>\n",
    "NVV: Network Value to Trading Volume (MarketCap / Trading Volume)"
   ]
  },
  {
   "cell_type": "code",
   "execution_count": 12,
   "metadata": {
    "hideCode": false
   },
   "outputs": [],
   "source": [
    "import new_protos_edge as npe\n",
    "import pandas as pd\n",
    "import numpy as np\n",
    "import ipywidgets as widgets"
   ]
  },
  {
   "cell_type": "markdown",
   "metadata": {},
   "source": [
    "### Set Up the Strategy Backtests:"
   ]
  },
  {
   "cell_type": "markdown",
   "metadata": {},
   "source": [
    "Which type of *Fundamental Ratio* do you want to test?\n",
    "\n",
    "**NVT**: Network Value to Trasnaction Volume<br>\n",
    "**NVV**: Network Value to Trading Volume "
   ]
  },
  {
   "cell_type": "code",
   "execution_count": 13,
   "metadata": {
    "hideCode": true
   },
   "outputs": [],
   "source": [
    "widget_fundamental = widgets.ToggleButtons(\n",
    "    options={'NVT':'nvt','NVV':'nvv'},\n",
    "    description='Ratios:',\n",
    "    disabled=False,\n",
    "    button_style='', # 'success', 'info', 'warning', 'danger' or ''\n",
    "    tooltips=['Network Value to Transaction Volume', 'Network Value to Trading Volume'],\n",
    ")\n",
    "\n",
    "widget_nr_tickers = widgets.IntSlider(\n",
    "    value=6,\n",
    "    min=0,\n",
    "    max=10,\n",
    "    step=1,\n",
    "    description='Tickers:',\n",
    "    disabled=False,\n",
    "    continuous_update=False,\n",
    "    orientation='horizontal',\n",
    "    readout=True,\n",
    "    readout_format='d'\n",
    ")\n",
    "\n",
    "widget_select_tickers = widgets.SelectMultiple(\n",
    "    options=['bitcoin','ethereum','ripple','litecoin','dash','nem', 'ethereum-classic',\n",
    "               'zcash','pivx','golem-network-tokens','decred','digibyte','dogecoin',\n",
    "               'verge'],\n",
    "    value=['bitcoin'],\n",
    "    #rows=10,\n",
    "    description='Tickers',\n",
    "    disabled=False\n",
    ")\n",
    "\n",
    "widget_strategy = widgets.ToggleButtons(\n",
    "    options={'Buy Largest':'largest','Buy Smallest':'smallest','Buy Large, Sell Small':'largest-smallest',\n",
    "            'Buy Small, Sell Large':'smallest-largest'},\n",
    "    disabled=False,\n",
    "    button_style='', # 'success', 'info', 'warning', 'danger' or ''\n",
    "    tooltips=['Buy the largest x currencies', 'Buy the smallest x currencies',\n",
    "             'Buy the largest x currencies, Sell the smallest x currencies',\n",
    "             'Buy the smallest x currencies, Sell the largest x currencies'],\n",
    ")\n",
    "\n",
    "widget_rebalancing_period = widgets.IntSlider(\n",
    "    value=4,\n",
    "    min=1,\n",
    "    max=90,\n",
    "    step=1,\n",
    "    description='Rebalancing:',\n",
    "    disabled=False,\n",
    "    continuous_update=False,\n",
    "    orientation='horizontal',\n",
    "    readout=True,\n",
    "    readout_format='d'\n",
    ")\n",
    "\n",
    "widget_spread = widgets.FloatSlider(\n",
    "    value=0.006,\n",
    "    min=0,\n",
    "    max=0.02,\n",
    "    step=0.001,\n",
    "    description='Spread:',\n",
    "    disabled=False,\n",
    "    continuous_update=False,\n",
    "    orientation='horizontal',\n",
    "    readout=True,\n",
    "    readout_format='.3f',\n",
    ")"
   ]
  },
  {
   "cell_type": "code",
   "execution_count": 14,
   "metadata": {
    "hideCode": false
   },
   "outputs": [
    {
     "data": {
      "application/vnd.jupyter.widget-view+json": {
       "model_id": "9666c419b87e453da57d3826286e70c2",
       "version_major": 2,
       "version_minor": 0
      },
      "text/html": [
       "<p>Failed to display Jupyter Widget of type <code>ToggleButtons</code>.</p>\n",
       "<p>\n",
       "  If you're reading this message in the Jupyter Notebook or JupyterLab Notebook, it may mean\n",
       "  that the widgets JavaScript is still loading. If this message persists, it\n",
       "  likely means that the widgets JavaScript library is either not installed or\n",
       "  not enabled. See the <a href=\"https://ipywidgets.readthedocs.io/en/stable/user_install.html\">Jupyter\n",
       "  Widgets Documentation</a> for setup instructions.\n",
       "</p>\n",
       "<p>\n",
       "  If you're reading this message in another frontend (for example, a static\n",
       "  rendering on GitHub or <a href=\"https://nbviewer.jupyter.org/\">NBViewer</a>),\n",
       "  it may mean that your frontend doesn't currently support widgets.\n",
       "</p>\n"
      ],
      "text/plain": [
       "ToggleButtons(description='Ratios:', options={'NVT': 'nvt', 'NVV': 'nvv'}, tooltips=['Network Value to Transaction Volume', 'Network Value to Trading Volume'], value='nvt')"
      ]
     },
     "metadata": {},
     "output_type": "display_data"
    }
   ],
   "source": [
    "display(widget_fundamental)"
   ]
  },
  {
   "cell_type": "markdown",
   "metadata": {},
   "source": [
    "### Strategy Parameters\n",
    "#### Choose your strategy:\n",
    "***Long-Only*** or ***Long-Short?***<br>\n",
    "Buying the tickers with the ***largest*** or with the ***smallest*** Ratios?<br>\n",
    "*Note: When choosing a Long-Short Strategy you the buy the largest/smallest x tickers and sell the opposite x tickers*"
   ]
  },
  {
   "cell_type": "code",
   "execution_count": 15,
   "metadata": {
    "hideCode": false
   },
   "outputs": [
    {
     "data": {
      "application/vnd.jupyter.widget-view+json": {
       "model_id": "4a71e8101b41495eb1e2b27ca4aa194a",
       "version_major": 2,
       "version_minor": 0
      },
      "text/html": [
       "<p>Failed to display Jupyter Widget of type <code>IntSlider</code>.</p>\n",
       "<p>\n",
       "  If you're reading this message in the Jupyter Notebook or JupyterLab Notebook, it may mean\n",
       "  that the widgets JavaScript is still loading. If this message persists, it\n",
       "  likely means that the widgets JavaScript library is either not installed or\n",
       "  not enabled. See the <a href=\"https://ipywidgets.readthedocs.io/en/stable/user_install.html\">Jupyter\n",
       "  Widgets Documentation</a> for setup instructions.\n",
       "</p>\n",
       "<p>\n",
       "  If you're reading this message in another frontend (for example, a static\n",
       "  rendering on GitHub or <a href=\"https://nbviewer.jupyter.org/\">NBViewer</a>),\n",
       "  it may mean that your frontend doesn't currently support widgets.\n",
       "</p>\n"
      ],
      "text/plain": [
       "IntSlider(value=6, continuous_update=False, description='Tickers:', max=10)"
      ]
     },
     "metadata": {},
     "output_type": "display_data"
    },
    {
     "data": {
      "application/vnd.jupyter.widget-view+json": {
       "model_id": "149c1c37691047cf9503800b1611ca27",
       "version_major": 2,
       "version_minor": 0
      },
      "text/html": [
       "<p>Failed to display Jupyter Widget of type <code>ToggleButtons</code>.</p>\n",
       "<p>\n",
       "  If you're reading this message in the Jupyter Notebook or JupyterLab Notebook, it may mean\n",
       "  that the widgets JavaScript is still loading. If this message persists, it\n",
       "  likely means that the widgets JavaScript library is either not installed or\n",
       "  not enabled. See the <a href=\"https://ipywidgets.readthedocs.io/en/stable/user_install.html\">Jupyter\n",
       "  Widgets Documentation</a> for setup instructions.\n",
       "</p>\n",
       "<p>\n",
       "  If you're reading this message in another frontend (for example, a static\n",
       "  rendering on GitHub or <a href=\"https://nbviewer.jupyter.org/\">NBViewer</a>),\n",
       "  it may mean that your frontend doesn't currently support widgets.\n",
       "</p>\n"
      ],
      "text/plain": [
       "ToggleButtons(options={'Buy Largest': 'largest', 'Buy Smallest': 'smallest', 'Buy Large, Sell Small': 'largest-smallest', 'Buy Small, Sell Large': 'smallest-largest'}, tooltips=['Buy the largest x currencies', 'Buy the smallest x currencies', 'Buy the largest x currencies, Sell the smallest x currencies', 'Buy the smallest x currencies, Sell the largest x currencies'], value='largest')"
      ]
     },
     "metadata": {},
     "output_type": "display_data"
    }
   ],
   "source": [
    "display(widget_nr_tickers)\n",
    "display(widget_strategy)"
   ]
  },
  {
   "cell_type": "markdown",
   "metadata": {
    "hideCode": false
   },
   "source": [
    "### Backtest Parameters\n",
    "Rebalancing: Rebalance the portfolio every x days <br>\n",
    "Spread: When buying selling the actual buy/sell price is above or below the market price<br>\n",
    "*Note: The Spread gets subtracted from the Portfolio Balance as transaction costs*"
   ]
  },
  {
   "cell_type": "code",
   "execution_count": 16,
   "metadata": {
    "hideCode": false
   },
   "outputs": [
    {
     "data": {
      "application/vnd.jupyter.widget-view+json": {
       "model_id": "3d86d787e322488987b9c9759c662229",
       "version_major": 2,
       "version_minor": 0
      },
      "text/html": [
       "<p>Failed to display Jupyter Widget of type <code>IntSlider</code>.</p>\n",
       "<p>\n",
       "  If you're reading this message in the Jupyter Notebook or JupyterLab Notebook, it may mean\n",
       "  that the widgets JavaScript is still loading. If this message persists, it\n",
       "  likely means that the widgets JavaScript library is either not installed or\n",
       "  not enabled. See the <a href=\"https://ipywidgets.readthedocs.io/en/stable/user_install.html\">Jupyter\n",
       "  Widgets Documentation</a> for setup instructions.\n",
       "</p>\n",
       "<p>\n",
       "  If you're reading this message in another frontend (for example, a static\n",
       "  rendering on GitHub or <a href=\"https://nbviewer.jupyter.org/\">NBViewer</a>),\n",
       "  it may mean that your frontend doesn't currently support widgets.\n",
       "</p>\n"
      ],
      "text/plain": [
       "IntSlider(value=4, continuous_update=False, description='Rebalancing:', max=90, min=1)"
      ]
     },
     "metadata": {},
     "output_type": "display_data"
    }
   ],
   "source": [
    "display(widget_rebalancing_period)"
   ]
  },
  {
   "cell_type": "markdown",
   "metadata": {
    "hideCode": false
   },
   "source": [
    "### Load Data"
   ]
  },
  {
   "cell_type": "code",
   "execution_count": 21,
   "metadata": {
    "hideCode": false
   },
   "outputs": [],
   "source": [
    "# Collect Parameters\n",
    "fundamental = widget_fundamental.value\n",
    "strategy = widget_strategy.value\n",
    "nr_tickers = widget_nr_tickers.value\n",
    "param = [strategy, nr_tickers]\n",
    "rebalancing_period = widget_rebalancing_period.value\n",
    "spread = widget_spread.value\n",
    "lb = 1"
   ]
  },
  {
   "cell_type": "code",
   "execution_count": 22,
   "metadata": {
    "hideCode": false
   },
   "outputs": [],
   "source": [
    "if(fundamental == \"nvv\"): \n",
    "    vol, prices, mcap = npe.loadData('nvv')\n",
    "if(fundamental == \"nvt\"): \n",
    "    vol, prices, mcap = npe.loadData('nvt')\n",
    "nvx = mcap/vol"
   ]
  },
  {
   "cell_type": "markdown",
   "metadata": {},
   "source": [
    "### Start Backtest"
   ]
  },
  {
   "cell_type": "code",
   "execution_count": 23,
   "metadata": {
    "hideCode": false
   },
   "outputs": [],
   "source": [
    "track_balance = []\n",
    "portfolio = npe.initPortfolio(prices.iloc[:1], vol.iloc[:1], param,\"nvx\")\n",
    "\n",
    "for i in range(lb,prices.shape[0]):\n",
    "    \n",
    "    if(i > lb):\n",
    "        portfolio = npe.updateBalance(portfolio,prices.iloc[:i,:])\n",
    "    \n",
    "    signals = npe.getSignals(\"nvx\",prices.iloc[:i,:],nvx.iloc[:i,:],param)\n",
    "    \n",
    "    targetAlloc = npe.RiskManagement(signals,portfolio,prices.iloc[:i,:])\n",
    "    \n",
    "    if(i%rebalancing_period == 0):\n",
    "        portfolio = npe.updatePositions(portfolio,targetAlloc,prices.iloc[:i,:], spread)\n",
    "    \n",
    "    track_balance.append(portfolio['balance'])"
   ]
  },
  {
   "cell_type": "markdown",
   "metadata": {},
   "source": [
    "### Results and Statistics"
   ]
  },
  {
   "cell_type": "code",
   "execution_count": 24,
   "metadata": {
    "hideCode": false
   },
   "outputs": [
    {
     "name": "stdout",
     "output_type": "stream",
     "text": [
      "Balance: 49489.65291588582\n",
      "--------------------------------------\n",
      "bitcoin                     0.000000\n",
      "dash                        0.000000\n",
      "decred                      0.000000\n",
      "digibyte                    0.000000\n",
      "dogecoin                    0.000000\n",
      "ethereum                    0.000000\n",
      "ethereum-classic            0.000000\n",
      "golem-network-tokens        0.000000\n",
      "litecoin                    0.000000\n",
      "nem                         0.000000\n",
      "pivx                        0.000000\n",
      "ripple                  40830.259840\n",
      "verge                       0.000000\n",
      "zcash                      87.158333\n",
      "Name: 2018-05-25 00:00:00, dtype: float64\n",
      "--------------------------------------\n",
      "Sharpe: [3.20714677]\n",
      "--------------------------------------\n",
      "Gain-to-Pain : [0.73599371]\n"
     ]
    },
    {
     "data": {
      "image/png": "[encoded data removed]",
      "text/plain": [
       "<matplotlib.figure.Figure at 0x20e7e68e780>"
      ]
     },
     "metadata": {},
     "output_type": "display_data"
    }
   ],
   "source": [
    "balance = pd.DataFrame(track_balance)\n",
    "balance.plot()\n",
    "returns = balance.pct_change()\n",
    "\n",
    "\n",
    "print(\"Balance: \" + str(portfolio['balance']))\n",
    "print(\"--------------------------------------\")\n",
    "print(portfolio['positions'])\n",
    "print(\"--------------------------------------\")\n",
    "print(\"Sharpe: \" + str((returns.mean()/(returns.std())*np.sqrt(365)).values))\n",
    "print(\"--------------------------------------\")\n",
    "print(\"Gain-to-Pain : \" + str((returns.sum()/abs(returns[returns < 0].sum())).values))"
   ]
  },
  {
   "cell_type": "code",
   "execution_count": null,
   "metadata": {},
   "outputs": [],
   "source": []
  }
 ],
 "metadata": {
  "kernelspec": {
   "display_name": "Python 3",
   "language": "python",
   "name": "python3"
  },
  "language_info": {
   "codemirror_mode": {
    "name": "ipython",
    "version": 3
   },
   "file_extension": ".py",
   "mimetype": "text/x-python",
   "name": "python",
   "nbconvert_exporter": "python",
   "pygments_lexer": "ipython3",
   "version": "3.6.4"
  },
  "widgets": {
   "application/vnd.jupyter.widget-state+json": {
    "state": {
     "1139a9dfc5e94323af06b687da8e1734": {
      "model_module": "@jupyter-widgets/base",
      "model_module_version": "1.0.0",
      "model_name": "LayoutModel",
      "state": {}
     },
     "149c1c37691047cf9503800b1611ca27": {
      "model_module": "@jupyter-widgets/controls",
      "model_module_version": "1.1.0",
      "model_name": "ToggleButtonsModel",
      "state": {
       "_options_labels": [
        "Buy Largest",
        "Buy Smallest",
        "Buy Large, Sell Small",
        "Buy Small, Sell Large"
       ],
       "button_style": "",
       "icons": [],
       "index": 1,
       "layout": "IPY_MODEL_5b0f1eeac975403ab5237fbe2c549baf",
       "style": "IPY_MODEL_8513ffbb78ff493fa976415d04904cc0",
       "tooltips": [
        "Buy the largest x currencies",
        "Buy the smallest x currencies",
        "Buy the largest x currencies, Sell the smallest x currencies",
        "Buy the smallest x currencies, Sell the largest x currencies"
       ]
      }
     },
     "2041a087dc634af7b6318fbcfb61e1ec": {
      "model_module": "@jupyter-widgets/controls",
      "model_module_version": "1.1.0",
      "model_name": "ToggleButtonsStyleModel",
      "state": {
       "button_width": "",
       "description_width": ""
      }
     },
     "28b187a5c2324dc9b484a51d1a335675": {
      "model_module": "@jupyter-widgets/base",
      "model_module_version": "1.0.0",
      "model_name": "LayoutModel",
      "state": {}
     },
     "31b15426bb0a45668aaf95b8d1e755f4": {
      "model_module": "@jupyter-widgets/base",
      "model_module_version": "1.0.0",
      "model_name": "LayoutModel",
      "state": {}
     },
     "32e0ff42421a40e391d6d4359e0f6fd0": {
      "model_module": "@jupyter-widgets/controls",
      "model_module_version": "1.1.0",
      "model_name": "SelectMultipleModel",
      "state": {
       "_options_labels": [
        "bitcoin",
        "ethereum",
        "ripple",
        "litecoin",
        "dash",
        "nem",
        "ethereum-classic",
        "zcash",
        "pivx",
        "golem-network-tokens",
        "decred",
        "digibyte",
        "dogecoin",
        "verge"
       ],
       "description": "Tickers",
       "index": [
        0
       ],
       "layout": "IPY_MODEL_1139a9dfc5e94323af06b687da8e1734",
       "rows": 5,
       "style": "IPY_MODEL_a1bce2c822a94a33b9d339fe2c93efa7"
      }
     },
     "3a601a6aa1444ce98e4b3cc563026c96": {
      "model_module": "@jupyter-widgets/base",
      "model_module_version": "1.0.0",
      "model_name": "LayoutModel",
      "state": {}
     },
     "3d86d787e322488987b9c9759c662229": {
      "model_module": "@jupyter-widgets/controls",
      "model_module_version": "1.1.0",
      "model_name": "IntSliderModel",
      "state": {
       "continuous_update": false,
       "description": "Rebalancing:",
       "layout": "IPY_MODEL_31b15426bb0a45668aaf95b8d1e755f4",
       "max": 90,
       "min": 1,
       "style": "IPY_MODEL_97906d01853044ed93286f51826d5fcc",
       "value": 15
      }
     },
     "4976a6538eb346af8e632a7dc6964bf9": {
      "model_module": "@jupyter-widgets/controls",
      "model_module_version": "1.1.0",
      "model_name": "ToggleButtonsStyleModel",
      "state": {
       "button_width": "",
       "description_width": ""
      }
     },
     "4a71e8101b41495eb1e2b27ca4aa194a": {
      "model_module": "@jupyter-widgets/controls",
      "model_module_version": "1.1.0",
      "model_name": "IntSliderModel",
      "state": {
       "continuous_update": false,
       "description": "Tickers:",
       "layout": "IPY_MODEL_3a601a6aa1444ce98e4b3cc563026c96",
       "max": 10,
       "style": "IPY_MODEL_db49a6a2dfde40f39917d6eb37692550",
       "value": 2
      }
     },
     "4cdaff9322ca4dc293751072b8e5d534": {
      "model_module": "@jupyter-widgets/base",
      "model_module_version": "1.0.0",
      "model_name": "LayoutModel",
      "state": {}
     },
     "4e330036ed384f8792797139d87bfd3e": {
      "model_module": "@jupyter-widgets/base",
      "model_module_version": "1.0.0",
      "model_name": "LayoutModel",
      "state": {}
     },
     "5b0f1eeac975403ab5237fbe2c549baf": {
      "model_module": "@jupyter-widgets/base",
      "model_module_version": "1.0.0",
      "model_name": "LayoutModel",
      "state": {}
     },
     "6157856ef19246de91fbe6d8422f0586": {
      "model_module": "@jupyter-widgets/controls",
      "model_module_version": "1.1.0",
      "model_name": "FloatSliderModel",
      "state": {
       "continuous_update": false,
       "description": "Spread:",
       "layout": "IPY_MODEL_4e330036ed384f8792797139d87bfd3e",
       "max": 0.02,
       "readout_format": ".3f",
       "step": 0.001,
       "style": "IPY_MODEL_ddc66a63de3648ef9f40bef270067437",
       "value": 0.006
      }
     },
     "8513ffbb78ff493fa976415d04904cc0": {
      "model_module": "@jupyter-widgets/controls",
      "model_module_version": "1.1.0",
      "model_name": "ToggleButtonsStyleModel",
      "state": {
       "button_width": "",
       "description_width": ""
      }
     },
     "866c312f90bd4ba2a76da29a5e1766be": {
      "model_module": "@jupyter-widgets/base",
      "model_module_version": "1.0.0",
      "model_name": "LayoutModel",
      "state": {}
     },
     "8a60c39f91664692bbd447307d4e21f4": {
      "model_module": "@jupyter-widgets/controls",
      "model_module_version": "1.1.0",
      "model_name": "SliderStyleModel",
      "state": {
       "description_width": ""
      }
     },
     "8f6920202d7945d5933d454a65854328": {
      "model_module": "@jupyter-widgets/base",
      "model_module_version": "1.0.0",
      "model_name": "LayoutModel",
      "state": {}
     },
     "9666c419b87e453da57d3826286e70c2": {
      "model_module": "@jupyter-widgets/controls",
      "model_module_version": "1.1.0",
      "model_name": "ToggleButtonsModel",
      "state": {
       "_options_labels": [
        "NVT",
        "NVV"
       ],
       "button_style": "",
       "description": "Ratios:",
       "icons": [],
       "index": 0,
       "layout": "IPY_MODEL_28b187a5c2324dc9b484a51d1a335675",
       "style": "IPY_MODEL_4976a6538eb346af8e632a7dc6964bf9",
       "tooltips": [
        "Network Value to Transaction Volume",
        "Network Value to Trading Volume"
       ]
      }
     },
     "97906d01853044ed93286f51826d5fcc": {
      "model_module": "@jupyter-widgets/controls",
      "model_module_version": "1.1.0",
      "model_name": "SliderStyleModel",
      "state": {
       "description_width": ""
      }
     },
     "a1bce2c822a94a33b9d339fe2c93efa7": {
      "model_module": "@jupyter-widgets/controls",
      "model_module_version": "1.1.0",
      "model_name": "DescriptionStyleModel",
      "state": {
       "description_width": ""
      }
     },
     "a4295ecae58e49218a99ec83181b06d3": {
      "model_module": "@jupyter-widgets/base",
      "model_module_version": "1.0.0",
      "model_name": "LayoutModel",
      "state": {}
     },
     "b86ba726400445549e21959d04b91e4b": {
      "model_module": "@jupyter-widgets/controls",
      "model_module_version": "1.1.0",
      "model_name": "ToggleButtonsModel",
      "state": {
       "_options_labels": [
        "Buy Largest",
        "Buy Smallest",
        "Buy Large, Sell Small",
        "Buy Small, Sell Large"
       ],
       "button_style": "",
       "icons": [],
       "index": 1,
       "layout": "IPY_MODEL_a4295ecae58e49218a99ec83181b06d3",
       "style": "IPY_MODEL_2041a087dc634af7b6318fbcfb61e1ec",
       "tooltips": [
        "Buy the largest x currencies",
        "Buy the smallest x currencies",
        "Buy the largest x currencies, Sell the smallest x currencies",
        "Buy the smallest x currencies, Sell the largest x currencies"
       ]
      }
     },
     "c144dec46f434710a8dfeb68a550457d": {
      "model_module": "@jupyter-widgets/controls",
      "model_module_version": "1.1.0",
      "model_name": "IntSliderModel",
      "state": {
       "continuous_update": false,
       "description": "Tickers:",
       "layout": "IPY_MODEL_8f6920202d7945d5933d454a65854328",
       "max": 10,
       "style": "IPY_MODEL_f996f4547af44818a4283cc429903a27",
       "value": 5
      }
     },
     "c6e12e7c39ae451f84489c20b85320b2": {
      "model_module": "@jupyter-widgets/controls",
      "model_module_version": "1.1.0",
      "model_name": "FloatSliderModel",
      "state": {
       "continuous_update": false,
       "description": "Spread:",
       "layout": "IPY_MODEL_4cdaff9322ca4dc293751072b8e5d534",
       "max": 0.02,
       "readout_format": ".3f",
       "step": 0.001,
       "style": "IPY_MODEL_c9ee2675d1624374a341627431fa01d4",
       "value": 0.006
      }
     },
     "c859f439da1f431986fa0f07badaa1a7": {
      "model_module": "@jupyter-widgets/controls",
      "model_module_version": "1.1.0",
      "model_name": "IntSliderModel",
      "state": {
       "continuous_update": false,
       "description": "Rebalancing:",
       "layout": "IPY_MODEL_ebcb1d8ee85147c885b85d13277523c5",
       "max": 90,
       "min": 1,
       "style": "IPY_MODEL_8a60c39f91664692bbd447307d4e21f4",
       "value": 18
      }
     },
     "c9a213614f9c43868c079ee685d9cedd": {
      "model_module": "@jupyter-widgets/controls",
      "model_module_version": "1.1.0",
      "model_name": "ToggleButtonsModel",
      "state": {
       "_options_labels": [
        "NVT",
        "NVV"
       ],
       "button_style": "",
       "description": "Ratios:",
       "icons": [],
       "index": 1,
       "layout": "IPY_MODEL_d2609a46debf4effac36937f820b7da2",
       "style": "IPY_MODEL_fdc1e424e2114edf93e28ca84f02d83a",
       "tooltips": [
        "Network Value to Transaction Volume",
        "Network Value to Trading Volume"
       ]
      }
     },
     "c9ee2675d1624374a341627431fa01d4": {
      "model_module": "@jupyter-widgets/controls",
      "model_module_version": "1.1.0",
      "model_name": "SliderStyleModel",
      "state": {
       "description_width": ""
      }
     },
     "d2609a46debf4effac36937f820b7da2": {
      "model_module": "@jupyter-widgets/base",
      "model_module_version": "1.0.0",
      "model_name": "LayoutModel",
      "state": {}
     },
     "db49a6a2dfde40f39917d6eb37692550": {
      "model_module": "@jupyter-widgets/controls",
      "model_module_version": "1.1.0",
      "model_name": "SliderStyleModel",
      "state": {
       "description_width": ""
      }
     },
     "db8215b00be94f21858c4db448ce6cff": {
      "model_module": "@jupyter-widgets/controls",
      "model_module_version": "1.1.0",
      "model_name": "SelectMultipleModel",
      "state": {
       "_options_labels": [
        "bitcoin",
        "ethereum",
        "ripple",
        "litecoin",
        "dash",
        "nem",
        "ethereum-classic",
        "zcash",
        "pivx",
        "golem-network-tokens",
        "decred",
        "digibyte",
        "dogecoin",
        "verge"
       ],
       "description": "Tickers",
       "index": [
        0
       ],
       "layout": "IPY_MODEL_866c312f90bd4ba2a76da29a5e1766be",
       "rows": 5,
       "style": "IPY_MODEL_f2b7b2f7d71a4a8492c3d0ed984e2060"
      }
     },
     "ddc66a63de3648ef9f40bef270067437": {
      "model_module": "@jupyter-widgets/controls",
      "model_module_version": "1.1.0",
      "model_name": "SliderStyleModel",
      "state": {
       "description_width": ""
      }
     },
     "ebcb1d8ee85147c885b85d13277523c5": {
      "model_module": "@jupyter-widgets/base",
      "model_module_version": "1.0.0",
      "model_name": "LayoutModel",
      "state": {}
     },
     "f2b7b2f7d71a4a8492c3d0ed984e2060": {
      "model_module": "@jupyter-widgets/controls",
      "model_module_version": "1.1.0",
      "model_name": "DescriptionStyleModel",
      "state": {
       "description_width": ""
      }
     },
     "f996f4547af44818a4283cc429903a27": {
      "model_module": "@jupyter-widgets/controls",
      "model_module_version": "1.1.0",
      "model_name": "SliderStyleModel",
      "state": {
       "description_width": ""
      }
     },
     "fdc1e424e2114edf93e28ca84f02d83a": {
      "model_module": "@jupyter-widgets/controls",
      "model_module_version": "1.1.0",
      "model_name": "ToggleButtonsStyleModel",
      "state": {
       "button_width": "",
       "description_width": ""
      }
     }
    },
    "version_major": 2,
    "version_minor": 0
   }
  }
 },
 "nbformat": 4,
 "nbformat_minor": 2
}
